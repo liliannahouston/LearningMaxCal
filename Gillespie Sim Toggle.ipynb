{
 "cells": [
  {
   "cell_type": "markdown",
   "metadata": {},
   "source": [
    "Lilianna Houston\n",
    "\n",
    "Updated: 9/9/21\n",
    "\n",
    "Gillespie Simulation \n",
    "\n",
    "Max Entropy Project"
   ]
  },
  {
   "cell_type": "code",
   "execution_count": 47,
   "metadata": {},
   "outputs": [],
   "source": [
    "import numpy as np\n",
    "import matplotlib.pyplot as plt\n",
    "import random"
   ]
  },
  {
   "cell_type": "markdown",
   "metadata": {},
   "source": [
    "Basic Gillespie Simulation: We have two different reactions, A->B and B->A with rates k_f and k_b respectively. At time t = 0, we have n_a and n_b number of A and B molecules. The probability of each reaction, combined with a random reaction and random time variable, determine which reaction happens, when. As time progresses, the numbers of A and B molecules flucuate; sometimes forming a pattern."
   ]
  },
  {
   "cell_type": "markdown",
   "metadata": {},
   "source": [
    "## Example 3: Toggle Switch"
   ]
  },
  {
   "cell_type": "markdown",
   "metadata": {},
   "source": [
    "In this example, we have 16 reactions. a1/a2) a mRNA production, degradation, a3/a4) protein A production/degradation, a5/a6) a star production, degradation, a7) a star a mRNA production, a8) a star b mRNA production, b1/b2) b mRNA production, degradation, b3/b4) protein B production/degradation, b5/b6) a prime production, degradation, b7) a prime a mRNA production, a8) a prime b mRNA production  "
   ]
  },
  {
   "cell_type": "code",
   "execution_count": 23,
   "metadata": {},
   "outputs": [],
   "source": [
    "# CONSTANTS\n",
    "# d = mRNA degradation rate\n",
    "d = 0.5 # 1/s\n",
    "# p = mRNA protein production rate\n",
    "p = 0.02 # 1/s\n",
    "# f = mRNA/protein forward state production rate\n",
    "f = 3.5*10**(-6) # 1/s\n",
    "# b = mRNA/protein backward state degradation rate\n",
    "b = 2.0*10**(-5) # 1/s\n",
    "# g = state production of matching mRNA production rate\n",
    "g = 0.5 # 1/s\n",
    "# g_state = state production of opposite mRNA production rate\n",
    "g_star = 2.5*10**(-3) # 1/s\n",
    "# protein degradation rate\n",
    "r = 1.0*10**(-3) # 1/s"
   ]
  },
  {
   "cell_type": "code",
   "execution_count": 34,
   "metadata": {},
   "outputs": [],
   "source": [
    "# INITIAL CONDITION of CHANGING VARIABLES\n",
    "\n",
    "Apro = []\n",
    "Bpro = []\n",
    "times = []\n",
    "\n",
    "# number of basic gene\n",
    "n_g = 1\n",
    "# number of star gene\n",
    "n_g_s = 0\n",
    "# number of prime gene\n",
    "n_g_p = 0\n",
    "\n",
    "# number of a mRNA\n",
    "mR_a = 0\n",
    "# number of b mRNA\n",
    "mR_b = 0\n",
    "\n",
    "# Number of A proteins\n",
    "n_a = 0\n",
    "# Number of B proteins\n",
    "n_b = 0\n",
    "\n",
    "base_time = 0\n",
    "\n",
    "main()"
   ]
  },
  {
   "cell_type": "code",
   "execution_count": 33,
   "metadata": {},
   "outputs": [],
   "source": [
    "def main():\n",
    "    global base_time, n_g, n_g_s, n_g_p, mR_a, mR_b, n_a, n_b\n",
    "    \n",
    "    i = 0\n",
    "    while base_time < 10**6:\n",
    "        # Random reaction variable\n",
    "        rand_r = random.uniform(0, 1)\n",
    "        # Random time variable\n",
    "        rand_t = random.uniform(0, 1) \n",
    "        \n",
    "        # Propensities\n",
    "        # a1) a mRNA production\n",
    "        a1 = n_g * g\n",
    "        # a2) a mRNA degradation\n",
    "        a2 = mR_a * d\n",
    "        # a3) protein A production\n",
    "        a3 = mR_a * p\n",
    "        # a4) protein A degradation \n",
    "        a4 = n_a * r\n",
    "        # a5) a star production\n",
    "        a5 = n_g * n_a * f\n",
    "        # a6) a star degradation\n",
    "        a6 = n_g_s * b\n",
    "        # a7) a star a mRNA production\n",
    "        a7 = n_g_s * g\n",
    "        # a8) a star b mRNA production\n",
    "        a8 = n_g_s * g_star\n",
    "        \n",
    "        # b1) a mRNA production\n",
    "        b1 = n_g * g\n",
    "        # b2) a mRNA degradation\n",
    "        b2 = mR_b * d\n",
    "        # b3) protein A production\n",
    "        b3 = mR_b * p\n",
    "        # b4) protein A degradation \n",
    "        b4 = n_b * r\n",
    "        # b5) a star production\n",
    "        b5 = n_g * n_b * f\n",
    "        # b6) a star degradation\n",
    "        b6 = n_g_p * b\n",
    "        # b7) a star a mRNA production\n",
    "        b7 = n_g_p * g_star\n",
    "        # b8) a star b mRNA production\n",
    "        b8 = n_g_p * g\n",
    "        \n",
    "        # Def vector of propensities\n",
    "        props = np.array([a1, a2, a3, a4, a5, a6, a7, a8,\n",
    "                          b1, b2, b3, b4, b5, b6, b7, b8])\n",
    "        # Def vector of probabilities\n",
    "        probs = props/np.sum(props) \n",
    "        # Calculate random time\n",
    "        time = 1/(np.sum(props))*np.log(1/rand_t)\n",
    "        base_time += time\n",
    "        \n",
    "        react = deter_reaction(rand_r, probs)\n",
    "        \n",
    "        if react != 0:\n",
    "            reaction_switch(react)\n",
    "        #print (\"i:\", i, \"unactive gene:\", n_g_ua, \"active gene:\", n_g_a, \"proteins:\", n_a, \"dimers:\", n_a2)        \n",
    "        Apro.append(n_a)\n",
    "        Bpro.append(n_b)\n",
    "        times.append(base_time)\n",
    "        i += 1\n",
    "        \n",
    "    #print (\"proteins:\", Apro, Bpro)\n",
    "    #print (\"base_time:\", times)"
   ]
  },
  {
   "cell_type": "code",
   "execution_count": 7,
   "metadata": {},
   "outputs": [],
   "source": [
    "# Probability Generator (useless tbh)\n",
    "def prob_gen(prop):\n",
    "    p = props[prop - 1] / np.sum(props)\n",
    "    return (p)"
   ]
  },
  {
   "cell_type": "code",
   "execution_count": 6,
   "metadata": {},
   "outputs": [],
   "source": [
    "# Reaction Selector \n",
    "def deter_reaction(rand_r, probs):\n",
    "    c = 0\n",
    "    s = 0\n",
    "    while c < (len(probs) + 1):\n",
    "        if s > rand_r:\n",
    "            return c\n",
    "        else:\n",
    "            s += probs[c]\n",
    "            c += 1\n",
    "    return 0"
   ]
  },
  {
   "cell_type": "code",
   "execution_count": 5,
   "metadata": {},
   "outputs": [],
   "source": [
    "def reaction_switch(react):\n",
    "    global n_g, n_g_s, n_g_p, mR_a, mR_b, n_a, n_b\n",
    "\n",
    "    if react == 1:\n",
    "        mR_a += 1\n",
    "    elif react == 2:\n",
    "        mR_a -= 1\n",
    "    elif react == 3:\n",
    "        n_a += 1\n",
    "    elif react == 4:\n",
    "        n_a -= 1\n",
    "    elif react == 5:\n",
    "        n_g_s += 1\n",
    "        n_g -= 1\n",
    "        n_a -= 1\n",
    "    elif react == 6:\n",
    "        n_g_s -= 1\n",
    "        n_g += 1\n",
    "        n_a += 1\n",
    "    elif react == 7:\n",
    "        mR_a += 1\n",
    "    elif react == 8:\n",
    "        mR_b += 1\n",
    "        \n",
    "    elif react == 9:\n",
    "        mR_b += 1\n",
    "    elif react == 10:\n",
    "        mR_b -= 1\n",
    "    elif react == 11:\n",
    "        n_b += 1\n",
    "    elif react == 12:\n",
    "        n_b -= 1\n",
    "    elif react == 13:\n",
    "        n_g_p += 1\n",
    "        n_g -= 1\n",
    "        n_b -= 1\n",
    "    elif react == 14:\n",
    "        n_g_p -= 1\n",
    "        n_g += 1\n",
    "        n_b += 1\n",
    "    elif react == 15:\n",
    "        mR_a += 1\n",
    "    elif react == 16:\n",
    "        mR_b += 1"
   ]
  },
  {
   "cell_type": "code",
   "execution_count": null,
   "metadata": {},
   "outputs": [],
   "source": []
  },
  {
   "cell_type": "code",
   "execution_count": 35,
   "metadata": {
    "scrolled": true
   },
   "outputs": [
    {
     "name": "stderr",
     "output_type": "stream",
     "text": [
      "C:\\Users\\lilia\\Anaconda3\\lib\\site-packages\\IPython\\core\\pylabtools.py:132: UserWarning: Creating legend with loc=\"best\" can be slow with large amounts of data.\n",
      "  fig.canvas.print_figure(bytes_io, **kw)\n"
     ]
    },
    {
     "data": {
      "image/png": "[encoded data removed]",
      "text/plain": [
       "<Figure size 432x288 with 1 Axes>"
      ]
     },
     "metadata": {
      "needs_background": "light"
     },
     "output_type": "display_data"
    }
   ],
   "source": [
    "# plot\n",
    "plt.plot(times, Apro, alpha=.7, label=\"A\")\n",
    "plt.plot(times, Bpro, alpha=.7, label=\"B\")\n",
    "\n",
    "plt.ticklabel_format(axis=\"x\", style=\"sci\", scilimits=(0,0))\n",
    "plt.xlabel(\"Time (s)\")\n",
    "plt.ylabel(\"Number of Proteins\")\n",
    "plt.title(\"Gillespie Simulation: Toggle\")\n",
    "plt.legend()\n",
    "plt.show()"
   ]
  },
  {
   "cell_type": "markdown",
   "metadata": {},
   "source": []
  },
  {
   "cell_type": "code",
   "execution_count": 68,
   "metadata": {},
   "outputs": [],
   "source": [
    "import seaborn as sns\n",
    "from numpy import linspace, meshgrid"
   ]
  },
  {
   "cell_type": "code",
   "execution_count": 66,
   "metadata": {},
   "outputs": [],
   "source": [
    "max_pro = max(np.max(Apro), np.max(Bpro)) + 1\n",
    "\n",
    "heat_array = np.zeros((max_pro, max_pro))\n",
    "\n",
    "for i in range(len(Apro)):\n",
    "    heat_array[Apro[i], Bpro[i]] += 1"
   ]
  },
  {
   "cell_type": "code",
   "execution_count": 67,
   "metadata": {},
   "outputs": [
    {
     "name": "stdout",
     "output_type": "stream",
     "text": [
      "[[ 69.   0.   0. ...  98.  36.   0.]\n",
      " [ 38.   0.   0. ... 125.   7.   0.]\n",
      " [ 57.   0.   0. ...   0.   0.   0.]\n",
      " ...\n",
      " [ 21. 175.   0. ...   0.   0.   0.]\n",
      " [ 41.   0.   0. ...   0.   0.   0.]\n",
      " [ 42.   0.   0. ...   0.   0.   0.]]\n"
     ]
    }
   ],
   "source": [
    "print (heat_array)"
   ]
  },
  {
   "cell_type": "code",
   "execution_count": 106,
   "metadata": {},
   "outputs": [
    {
     "data": {
      "image/png": "[encoded data removed]",
      "text/plain": [
       "<Figure size 432x288 with 1 Axes>"
      ]
     },
     "metadata": {
      "needs_background": "light"
     },
     "output_type": "display_data"
    }
   ],
   "source": [
    "fig, ax = plt.subplots()\n",
    "ax.set_title(\"A vs B protein count\")\n",
    "\n",
    "ax = sns.heatmap(heat_array, cmap=\"YlGnBu\", cbar=False, square=True)\n",
    "ax.set_xlabel(\"Number of A proteins\")\n",
    "ax.set_ylabel(\"Number of B proteins\")\n",
    "ax.invert_yaxis()"
   ]
  },
  {
   "cell_type": "code",
   "execution_count": null,
   "metadata": {},
   "outputs": [],
   "source": [
    "#"
   ]
  }
 ],
 "metadata": {
  "kernelspec": {
   "display_name": "Python 3",
   "language": "python",
   "name": "python3"
  },
  "language_info": {
   "codemirror_mode": {
    "name": "ipython",
    "version": 3
   },
   "file_extension": ".py",
   "mimetype": "text/x-python",
   "name": "python",
   "nbconvert_exporter": "python",
   "pygments_lexer": "ipython3",
   "version": "3.7.6"
  }
 },
 "nbformat": 4,
 "nbformat_minor": 4
}
