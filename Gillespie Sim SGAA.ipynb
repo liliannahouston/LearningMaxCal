{
 "cells": [
  {
   "cell_type": "markdown",
   "metadata": {},
   "source": [
    "Lilianna Houston\n",
    "\n",
    "Updated: 9/3/21\n",
    "\n",
    "Gillespie Simulation \n",
    "\n",
    "Max Entropy Project"
   ]
  },
  {
   "cell_type": "code",
   "execution_count": 2,
   "metadata": {},
   "outputs": [],
   "source": [
    "import numpy as np\n",
    "import matplotlib.pyplot as plt\n",
    "import random"
   ]
  },
  {
   "cell_type": "markdown",
   "metadata": {},
   "source": [
    "## Example A: Single Gene Auto Activation"
   ]
  },
  {
   "cell_type": "markdown",
   "metadata": {},
   "source": [
    "In this example, we have 7 reactions. 1) Protein production, 2) protein degradation, 3/4) dimer creation/degradation, 5/6) gene activation/deactivation, 7) activated protein production."
   ]
  },
  {
   "cell_type": "code",
   "execution_count": 3,
   "metadata": {},
   "outputs": [],
   "source": [
    "# CONSTANTS\n",
    "# g = rate of basic protein production\n",
    "g = 5.0*10**(-3) # 1/s\n",
    "# r = rate of protein degradation\n",
    "r = 1.0*10**(-3) # 1/s\n",
    "# f_d = forward dimer rate\n",
    "f_d = 5.0*10**(-3) # 1/s\n",
    "# b_d = backward dimer rate\n",
    "b_d = 50.0 # 1/s\n",
    "# f_p = forward bind rate to activate gene\n",
    "f_p = 6.0*10**(-3) # 1/s\n",
    "# b_p = backward bind rate to deactivate gene\n",
    "b_p = 3.0*10**(-5) # 1/s\n",
    "# g_star = rate rate of activated protein production\n",
    "g_star = 50.0*10**(-3) # 1/s"
   ]
  },
  {
   "cell_type": "code",
   "execution_count": 11,
   "metadata": {},
   "outputs": [
    {
     "name": "stderr",
     "output_type": "stream",
     "text": [
      "IOPub data rate exceeded.\n",
      "The notebook server will temporarily stop sending output\n",
      "to the client in order to avoid crashing it.\n",
      "To change this limit, set the config variable\n",
      "`--NotebookApp.iopub_data_rate_limit`.\n",
      "\n",
      "Current values:\n",
      "NotebookApp.iopub_data_rate_limit=1000000.0 (bytes/sec)\n",
      "NotebookApp.rate_limit_window=3.0 (secs)\n",
      "\n"
     ]
    }
   ],
   "source": [
    "# INITIAL CONDITION of CHANGING VARIABLES\n",
    "\n",
    "proteins = []\n",
    "times = []\n",
    "\n",
    "# Gene switch: unactivated = false, activated = true\n",
    "gene = False\n",
    "# number of unactived gene\n",
    "n_g_ua = 1\n",
    "# number of actived gene\n",
    "n_g_a = 0\n",
    "\n",
    "# Number of Proteins\n",
    "n_a = 0\n",
    "\n",
    "# Number of dimers\n",
    "n_a2 = 0\n",
    "\n",
    "base_time = 0\n",
    "\n",
    "main()"
   ]
  },
  {
   "cell_type": "code",
   "execution_count": 5,
   "metadata": {},
   "outputs": [],
   "source": [
    "def main():\n",
    "    global gene, n_g_ua, n_g_a, n_a, n_a2, base_time\n",
    "    i = 0\n",
    "    while base_time < 10**6:\n",
    "        # Random reaction variable\n",
    "        rand_r = random.uniform(0, 1)\n",
    "        # Random time variable\n",
    "        rand_t = random.uniform(0, 1) \n",
    "        \n",
    "        # Propensities\n",
    "        # 1) Protein production \n",
    "        a1 = n_g_ua * g\n",
    "        # 2) protein degradation\n",
    "        a2 = n_a * r\n",
    "        # 3) dimer creation \n",
    "        a3 = n_a * (n_a-1) * f_d # IS THIS CORRECT? OR IS IT JUST N_A?  \n",
    "        # 4) dimer degradation\n",
    "        a4 = n_a2 * b_d\n",
    "        # 5) gene activation \n",
    "        a5 = n_g_ua * n_a2 * f_p\n",
    "        # 6) gene deactivation\n",
    "        a6 = n_g_a * b_p\n",
    "        # 7) activated protein production\n",
    "        a7 = n_g_a * g_star\n",
    "        \n",
    "        # Def vector of propensities\n",
    "        props = np.array([a1, a2, a3, a4, a5, a6, a7])\n",
    "        # Def vector of probabilities\n",
    "        probs = props/np.sum(props) \n",
    "        # Calculate random time\n",
    "        time = 1/(np.sum(props))*np.log(1/rand_t)\n",
    "        base_time += time\n",
    "        \n",
    "        react = deter_reaction(rand_r, probs)\n",
    "        \n",
    "        if react != 0:\n",
    "            reaction_switch(react)\n",
    "        #print (\"i:\", i, \"unactive gene:\", n_g_ua, \"active gene:\", n_g_a, \"proteins:\", n_a, \"dimers:\", n_a2)        \n",
    "        proteins.append(n_a)\n",
    "        times.append(base_time)\n",
    "        i += 1\n",
    "        \n",
    "    print (\"proteins:\", proteins)\n",
    "    print (\"base_time:\", times)"
   ]
  },
  {
   "cell_type": "code",
   "execution_count": 6,
   "metadata": {},
   "outputs": [],
   "source": [
    "# Probability Generator (useless tbh)\n",
    "def prob_gen(prop):\n",
    "    p = props[prop - 1] / np.sum(props)\n",
    "    return (p)"
   ]
  },
  {
   "cell_type": "code",
   "execution_count": 7,
   "metadata": {},
   "outputs": [],
   "source": [
    "# Reaction Selector \n",
    "def deter_reaction(rand_r, probs):\n",
    "    c = 0\n",
    "    s = 0\n",
    "    while c < (len(probs) + 1):\n",
    "        if s > rand_r:\n",
    "            return c\n",
    "        else:\n",
    "            s += probs[c]\n",
    "            c += 1\n",
    "    return 0"
   ]
  },
  {
   "cell_type": "code",
   "execution_count": 8,
   "metadata": {},
   "outputs": [],
   "source": [
    "##, gene, n_g_ua, n_g_a, n_a, n_a2\n",
    "def reaction_switch(react):\n",
    "    if react == 1:\n",
    "        react_1()\n",
    "    elif react == 2:\n",
    "        react_2(),\n",
    "    elif react == 3:\n",
    "        react_3(),\n",
    "    elif react == 4:\n",
    "        react_4(),\n",
    "    elif react == 5:\n",
    "        react_5(),\n",
    "    elif react == 6:\n",
    "        react_6(),\n",
    "    elif react == 7:\n",
    "        react_7(),"
   ]
  },
  {
   "cell_type": "code",
   "execution_count": 9,
   "metadata": {},
   "outputs": [],
   "source": [
    "def react_1():\n",
    "    global gene, n_g_ua, n_g_a, n_a, n_a2\n",
    "    n_a += 1\n",
    "def react_2():\n",
    "    global gene, n_g_ua, n_g_a, n_a, n_a2\n",
    "    n_a -= 1\n",
    "def react_3():\n",
    "    global gene, n_g_ua, n_g_a, n_a, n_a2\n",
    "    n_a -= 2\n",
    "    n_a2 += 1\n",
    "def react_4():\n",
    "    global gene, n_g_ua, n_g_a, n_a, n_a2        \n",
    "    n_a += 2\n",
    "    n_a2 -= 1\n",
    "def react_5():\n",
    "    global gene, n_g_ua, n_g_a, n_a, n_a2\n",
    "    n_a2 -= 1\n",
    "    # Gene switch: unactivated = false, activated = true\n",
    "    gene = True\n",
    "    # number of unactived gene\n",
    "    n_g_ua -= 1\n",
    "    # number of actived gene\n",
    "    n_g_a += 1\n",
    "def react_6():\n",
    "    global gene, n_g_ua, n_g_a, n_a, n_a2\n",
    "    n_a2 += 1\n",
    "    # Gene switch: unactivated = false, activated = true\n",
    "    gene = False\n",
    "    # number of unactived gene\n",
    "    n_g_ua += 1\n",
    "    # number of actived gene\n",
    "    n_g_a -= 1\n",
    "def react_7():\n",
    "    global gene, n_g_ua, n_g_a, n_a, n_a2\n",
    "    n_a += 1"
   ]
  },
  {
   "cell_type": "code",
   "execution_count": 12,
   "metadata": {
    "scrolled": true
   },
   "outputs": [
    {
     "data": {
      "image/png": "[encoded data removed]",
      "text/plain": [
       "<Figure size 432x288 with 1 Axes>"
      ]
     },
     "metadata": {
      "needs_background": "light"
     },
     "output_type": "display_data"
    }
   ],
   "source": [
    "# plot\n",
    "plt.plot(times, proteins, alpha=.7)\n",
    "plt.ticklabel_format(axis=\"x\", style=\"sci\", scilimits=(0,0))\n",
    "plt.xlabel(\"Time (s)\")\n",
    "plt.ylabel(\"Number of Proteins\")\n",
    "plt.title(\"Gillespie Simulation: Positive feedback circuit example\")\n",
    "plt.show()"
   ]
  },
  {
   "cell_type": "markdown",
   "metadata": {},
   "source": []
  },
  {
   "cell_type": "code",
   "execution_count": null,
   "metadata": {},
   "outputs": [],
   "source": []
  }
 ],
 "metadata": {
  "kernelspec": {
   "display_name": "Python 3",
   "language": "python",
   "name": "python3"
  },
  "language_info": {
   "codemirror_mode": {
    "name": "ipython",
    "version": 3
   },
   "file_extension": ".py",
   "mimetype": "text/x-python",
   "name": "python",
   "nbconvert_exporter": "python",
   "pygments_lexer": "ipython3",
   "version": "3.7.6"
  }
 },
 "nbformat": 4,
 "nbformat_minor": 4
}
